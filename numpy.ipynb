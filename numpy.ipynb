{
  "nbformat": 4,
  "nbformat_minor": 0,
  "metadata": {
    "colab": {
      "provenance": [],
      "authorship_tag": "ABX9TyNaFE+mQIVaC7mZAvlqrrLP",
      "include_colab_link": true
    },
    "kernelspec": {
      "name": "python3",
      "display_name": "Python 3"
    },
    "language_info": {
      "name": "python"
    }
  },
  "cells": [
    {
      "cell_type": "markdown",
      "metadata": {
        "id": "view-in-github",
        "colab_type": "text"
      },
      "source": [
        "<a href=\"https://colab.research.google.com/github/Joshan2005/Petroleum-Data-Analytics/blob/main/numpy.ipynb\" target=\"_parent\"><img src=\"https://colab.research.google.com/assets/colab-badge.svg\" alt=\"Open In Colab\"/></a>"
      ]
    },
    {
      "cell_type": "markdown",
      "source": [
        "Numpy"
      ],
      "metadata": {
        "id": "6wMgCscW1NWL"
      }
    },
    {
      "cell_type": "code",
      "execution_count": null,
      "metadata": {
        "colab": {
          "base_uri": "https://localhost:8080/"
        },
        "id": "44BhyRVkjMCk",
        "outputId": "4a0aaed1-2f9e-40dd-c23e-14b2e7c61790"
      },
      "outputs": [
        {
          "output_type": "stream",
          "name": "stdout",
          "text": [
            "Requirement already satisfied: numpy in /usr/local/lib/python3.12/dist-packages (2.0.2)\n"
          ]
        }
      ],
      "source": [
        "pip install numpy"
      ]
    },
    {
      "cell_type": "code",
      "source": [
        "# creating 1D array\n",
        "import numpy as np\n",
        "a1 = np.array([1,2,3])\n",
        "print(a1)"
      ],
      "metadata": {
        "colab": {
          "base_uri": "https://localhost:8080/"
        },
        "id": "nny8gLcNjaJJ",
        "outputId": "1793f04e-e9c0-4bf6-99e0-3b062e1b6b71"
      },
      "execution_count": null,
      "outputs": [
        {
          "output_type": "stream",
          "name": "stdout",
          "text": [
            "[1 2 3]\n"
          ]
        }
      ]
    },
    {
      "cell_type": "code",
      "source": [
        "# creating 2D array\n",
        "import numpy as np\n",
        "a2 = np.array([[1,2,3],[4,5,6]])\n",
        "print('Dimensions:',a2.ndim)\n",
        "print(a2)"
      ],
      "metadata": {
        "colab": {
          "base_uri": "https://localhost:8080/"
        },
        "id": "TAicYoh9jxsc",
        "outputId": "9a9aa124-129b-4845-f61f-9707628dee31"
      },
      "execution_count": null,
      "outputs": [
        {
          "output_type": "stream",
          "name": "stdout",
          "text": [
            "Dimensions: 2\n",
            "[[1 2 3]\n",
            " [4 5 6]]\n"
          ]
        }
      ]
    },
    {
      "cell_type": "code",
      "source": [
        "# creating 3D array\n",
        "import numpy as np\n",
        "a3 = np.array([[[1,2,3],[4,5,6]],[[7,8,9],[10,11,12]]])\n",
        "print('Dimensions:',a3.ndim)\n",
        "print(a3)"
      ],
      "metadata": {
        "colab": {
          "base_uri": "https://localhost:8080/"
        },
        "id": "TKoeE0FBlDU4",
        "outputId": "807588bd-3012-4915-aaac-516d14d85c62"
      },
      "execution_count": null,
      "outputs": [
        {
          "output_type": "stream",
          "name": "stdout",
          "text": [
            "Dimensions: 3\n",
            "[[[ 1  2  3]\n",
            "  [ 4  5  6]]\n",
            "\n",
            " [[ 7  8  9]\n",
            "  [10 11 12]]]\n"
          ]
        }
      ]
    },
    {
      "cell_type": "code",
      "source": [
        "# ndarray funtions\n",
        "import numpy as np\n",
        "a3 = np.array([[1,2,3],[4,5,6],[7,8,9],[10,11,12]])\n",
        "print('Shape:',a3.shape)\n",
        "print('Dimensions:',a3.ndim)\n",
        "print('Size:',a3.size)\n",
        "print('Data type:',a3.dtype)\n",
        "print('Item size:',a3.itemsize)"
      ],
      "metadata": {
        "colab": {
          "base_uri": "https://localhost:8080/"
        },
        "id": "_rRE28P6oOLo",
        "outputId": "da6f14aa-0b7f-40e5-a358-d8eb1552444e"
      },
      "execution_count": null,
      "outputs": [
        {
          "output_type": "stream",
          "name": "stdout",
          "text": [
            "Shape: (4, 3)\n",
            "Dimensions: 2\n",
            "Size: 12\n",
            "Data type: int64\n",
            "Item size: 8\n"
          ]
        }
      ]
    },
    {
      "cell_type": "code",
      "source": [
        "# creating a sequence of evenly spaced values\n",
        "import numpy as py\n",
        "a4 = np.arange(20,40,2)\n",
        "print(a4)"
      ],
      "metadata": {
        "colab": {
          "base_uri": "https://localhost:8080/"
        },
        "id": "brL3surOpW34",
        "outputId": "9ac95cd1-4ed4-4c0c-9b65-10262a57e2e4"
      },
      "execution_count": null,
      "outputs": [
        {
          "output_type": "stream",
          "name": "stdout",
          "text": [
            "[20 22 24 26 28 30 32 34 36 38]\n"
          ]
        }
      ]
    },
    {
      "cell_type": "code",
      "source": [
        "# returning elemnets at indices\n",
        "import numpy as np\n",
        "a5=a4[np.array([1,2,3])]\n",
        "print(a5)"
      ],
      "metadata": {
        "colab": {
          "base_uri": "https://localhost:8080/"
        },
        "id": "Z-zNXyHwtCVG",
        "outputId": "726c7c2f-ad75-4934-cd61-e83cc195526c"
      },
      "execution_count": null,
      "outputs": [
        {
          "output_type": "stream",
          "name": "stdout",
          "text": [
            "[22 24 26]\n"
          ]
        }
      ]
    },
    {
      "cell_type": "code",
      "source": [
        "# basic slicing\n",
        "import numpy as np\n",
        "a6=np.arange(0,10,1)\n",
        "print(a6[6])\n",
        "print(a6[2:8:2])"
      ],
      "metadata": {
        "colab": {
          "base_uri": "https://localhost:8080/"
        },
        "id": "4URf3ju5tg6b",
        "outputId": "787d40ab-7d40-42d4-8dd2-c25269a9bb7d"
      },
      "execution_count": null,
      "outputs": [
        {
          "output_type": "stream",
          "name": "stdout",
          "text": [
            "6\n",
            "[2 4 6]\n"
          ]
        }
      ]
    },
    {
      "cell_type": "markdown",
      "source": [
        "Advanced Indexing"
      ],
      "metadata": {
        "id": "M9BJ5qvu1HYk"
      }
    },
    {
      "cell_type": "code",
      "source": [
        "# integer indeging\n",
        "import numpy as np\n",
        "a = np.array([[1,2],[3,4],[5,6]])\n",
        "print(a,'\\n')\n",
        "print(a[[0,1,2],[0,0,1]])"
      ],
      "metadata": {
        "colab": {
          "base_uri": "https://localhost:8080/"
        },
        "id": "r99Ff4y51Juy",
        "outputId": "56a30b53-de8c-488a-8910-4eb160dde864"
      },
      "execution_count": null,
      "outputs": [
        {
          "output_type": "stream",
          "name": "stdout",
          "text": [
            "[[1 2]\n",
            " [3 4]\n",
            " [5 6]] \n",
            "\n",
            "[1 3 6]\n"
          ]
        }
      ]
    },
    {
      "cell_type": "code",
      "source": [
        "# boolean indexing\n",
        "import numpy as np\n",
        "a = np.array([20,40,60,80,100])\n",
        "print(a[a>60])"
      ],
      "metadata": {
        "colab": {
          "base_uri": "https://localhost:8080/"
        },
        "id": "CqG7Xhr23fUV",
        "outputId": "ca346396-10cd-4681-ea6e-3a99b84f875e"
      },
      "execution_count": null,
      "outputs": [
        {
          "output_type": "stream",
          "name": "stdout",
          "text": [
            "[ 80 100]\n"
          ]
        }
      ]
    }
  ]
}