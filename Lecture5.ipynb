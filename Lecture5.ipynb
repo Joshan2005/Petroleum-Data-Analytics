{
  "nbformat": 4,
  "nbformat_minor": 0,
  "metadata": {
    "colab": {
      "provenance": [],
      "authorship_tag": "ABX9TyPQrBeZBWxduAZO7tXI7k8C",
      "include_colab_link": true
    },
    "kernelspec": {
      "name": "python3",
      "display_name": "Python 3"
    },
    "language_info": {
      "name": "python"
    }
  },
  "cells": [
    {
      "cell_type": "markdown",
      "metadata": {
        "id": "view-in-github",
        "colab_type": "text"
      },
      "source": [
        "<a href=\"https://colab.research.google.com/github/Joshan2005/Petroleum-Data-Analytics/blob/main/Lecture5.ipynb\" target=\"_parent\"><img src=\"https://colab.research.google.com/assets/colab-badge.svg\" alt=\"Open In Colab\"/></a>"
      ]
    },
    {
      "cell_type": "code",
      "execution_count": 4,
      "metadata": {
        "colab": {
          "base_uri": "https://localhost:8080/"
        },
        "id": "yiFHcno4kJpY",
        "outputId": "b6f6e1dd-b79a-4bab-a5a6-722d87100eac"
      },
      "outputs": [
        {
          "output_type": "stream",
          "name": "stdout",
          "text": [
            "Addition: 21\n",
            "Subtraction: 9\n",
            "Multiply: 90\n",
            "Divide: 2.5\n",
            "Floor Division: 2\n",
            "Modulus: 3\n",
            "Exponentiation: 11390625\n",
            "True\n",
            "False\n",
            "False\n",
            "True\n",
            "False\n",
            "True\n"
          ]
        }
      ],
      "source": [
        "# arithmetic operators\n",
        "x = 15\n",
        "y = 6\n",
        "print ('Addition:',x+y)\n",
        "print ( \"Subtraction:\",x-y)\n",
        "print ('Multiply:',x*y)\n",
        "print ('Divide:',x/y)\n",
        "print (\"Floor Division:\",x//y)\n",
        "print ('Modulus:',x%y)\n",
        "print ('Exponentiation:',x**y)\n",
        "print(x>y)\n",
        "print(x<y)\n",
        "print(x==y)\n",
        "print(x>=y)\n",
        "print(x<=y)\n",
        "print(x!=y)"
      ]
    },
    {
      "cell_type": "code",
      "source": [
        "a,b,c=1,2,1\n",
        "if a and c:\n",
        "  print ('a and c equals to 1')\n",
        "if not b:\n",
        "  print ('test')"
      ],
      "metadata": {
        "colab": {
          "base_uri": "https://localhost:8080/"
        },
        "id": "nWZsrYU-lGvi",
        "outputId": "b162820a-e79c-4459-e938-c4029c4bbb2b"
      },
      "execution_count": 10,
      "outputs": [
        {
          "output_type": "stream",
          "name": "stdout",
          "text": [
            "a and c equals to 1\n"
          ]
        }
      ]
    }
  ]
}