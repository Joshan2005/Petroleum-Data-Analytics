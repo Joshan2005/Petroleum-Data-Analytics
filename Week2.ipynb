{
  "nbformat": 4,
  "nbformat_minor": 0,
  "metadata": {
    "colab": {
      "provenance": [],
      "authorship_tag": "ABX9TyNh6WtRXVFWNeQ4FL6FdDQR",
      "include_colab_link": true
    },
    "kernelspec": {
      "name": "python3",
      "display_name": "Python 3"
    },
    "language_info": {
      "name": "python"
    }
  },
  "cells": [
    {
      "cell_type": "markdown",
      "metadata": {
        "id": "view-in-github",
        "colab_type": "text"
      },
      "source": [
        "<a href=\"https://colab.research.google.com/github/Joshan2005/Petroleum-Data-Analytics/blob/main/Week2.ipynb\" target=\"_parent\"><img src=\"https://colab.research.google.com/assets/colab-badge.svg\" alt=\"Open In Colab\"/></a>"
      ]
    },
    {
      "cell_type": "code",
      "execution_count": 8,
      "metadata": {
        "colab": {
          "base_uri": "https://localhost:8080/"
        },
        "id": "-vkJLlZawjGl",
        "outputId": "5b685d0f-32e8-4c28-a13d-5804c481baf3"
      },
      "outputs": [
        {
          "output_type": "stream",
          "name": "stdout",
          "text": [
            "10\n",
            "12\n",
            "0b1000\n",
            "-0b1011\n",
            "0b1110\n",
            "6\n",
            "0b110\n",
            "0b101000\n",
            "0b10\n"
          ]
        }
      ],
      "source": [
        "# bitwise and, not, or, xor, left shift, right shift operator\n",
        "a = 0b1010\n",
        "b = 0b1100\n",
        "c = a & b\n",
        "print(int(a))\n",
        "print(int(b))\n",
        "print(bin(c))\n",
        "c = ~a\n",
        "print(bin(c))\n",
        "c = a|b\n",
        "print(bin(c))\n",
        "c = a^b\n",
        "print(int(c))\n",
        "print(bin(c))\n",
        "c = a<<2\n",
        "print(bin(c))\n",
        "c = a>>2\n",
        "print(bin(c))"
      ]
    },
    {
      "cell_type": "code",
      "source": [
        "# identity operators\n",
        "a = 10\n",
        "b = 20\n",
        "c = a\n",
        "print(a is not b)\n",
        "print(a is c)"
      ],
      "metadata": {
        "colab": {
          "base_uri": "https://localhost:8080/"
        },
        "id": "cNvnVdK2w-1h",
        "outputId": "8f4d0779-2537-4bb7-d77e-03edc50c652c"
      },
      "execution_count": 9,
      "outputs": [
        {
          "output_type": "stream",
          "name": "stdout",
          "text": [
            "True\n",
            "True\n"
          ]
        }
      ]
    },
    {
      "cell_type": "code",
      "source": [
        "# membership operators\n",
        "x = 24\n",
        "y = 20\n",
        "list = [10,20,30,40,50]\n",
        "if (x in list):\n",
        "  print('x is in the list')\n",
        "else:\n",
        "  print('x is not in the list')\n",
        "if (y in list):\n",
        "  print('y in the list')\n",
        "else:\n",
        "  print('y not in the list')"
      ],
      "metadata": {
        "colab": {
          "base_uri": "https://localhost:8080/"
        },
        "id": "x7lhzN0qyX1Y",
        "outputId": "6c51b001-0145-4a25-eb6e-9a76f1757b68"
      },
      "execution_count": 11,
      "outputs": [
        {
          "output_type": "stream",
          "name": "stdout",
          "text": [
            "x is not in the list\n",
            "y in the list\n"
          ]
        }
      ]
    },
    {
      "cell_type": "code",
      "source": [
        "# numeric data type\n",
        "a=2\n",
        "print(type(a))\n",
        "b=20.25\n",
        "print(type(b))\n",
        "c=3+4j\n",
        "print(type(c))"
      ],
      "metadata": {
        "colab": {
          "base_uri": "https://localhost:8080/"
        },
        "id": "aj6Kf3zgzexg",
        "outputId": "5d406164-1f97-4552-af9d-e86b6bd52884"
      },
      "execution_count": 12,
      "outputs": [
        {
          "output_type": "stream",
          "name": "stdout",
          "text": [
            "<class 'int'>\n",
            "<class 'float'>\n",
            "<class 'complex'>\n"
          ]
        }
      ]
    },
    {
      "cell_type": "code",
      "source": [
        "# string data type\n",
        "s='This is a Petroluem Data Analytics course'\n",
        "print(s[10])\n",
        "print(s[20])\n",
        "print(s[30])\n",
        "print(s[-2])\n",
        "print(s[0:-6])\n",
        "print(s[1:4])\n",
        "print(s[:30])\n",
        "print(s[20:])"
      ],
      "metadata": {
        "colab": {
          "base_uri": "https://localhost:8080/"
        },
        "id": "rZB4dSqF1VbA",
        "outputId": "fa32c04f-db72-47bb-fadf-2b61f41544ae"
      },
      "execution_count": 26,
      "outputs": [
        {
          "output_type": "stream",
          "name": "stdout",
          "text": [
            "P\n",
            "D\n",
            "t\n",
            "s\n",
            "This is a Petroluem Data Analytics \n",
            "his\n",
            "This is a Petroluem Data Analy\n",
            "Data Analytics course\n"
          ]
        }
      ]
    },
    {
      "cell_type": "code",
      "source": [
        "# multiline string\n",
        "s = '''This is a multi\n",
        "line string'''\n",
        "print(s)"
      ],
      "metadata": {
        "colab": {
          "base_uri": "https://localhost:8080/"
        },
        "id": "giTBBPZX2h9f",
        "outputId": "f9c375de-1813-486e-de04-18f066d931a5"
      },
      "execution_count": 17,
      "outputs": [
        {
          "output_type": "stream",
          "name": "stdout",
          "text": [
            "This is a multi\n",
            "line string\n"
          ]
        }
      ]
    },
    {
      "cell_type": "code",
      "source": [],
      "metadata": {
        "id": "oZw6QCR95d6P"
      },
      "execution_count": null,
      "outputs": []
    }
  ]
}