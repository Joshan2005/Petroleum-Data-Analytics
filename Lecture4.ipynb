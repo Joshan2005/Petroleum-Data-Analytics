{
  "nbformat": 4,
  "nbformat_minor": 0,
  "metadata": {
    "colab": {
      "provenance": [],
      "authorship_tag": "ABX9TyPJgHwdTkKu5YEiabndVgU+",
      "include_colab_link": true
    },
    "kernelspec": {
      "name": "python3",
      "display_name": "Python 3"
    },
    "language_info": {
      "name": "python"
    }
  },
  "cells": [
    {
      "cell_type": "markdown",
      "metadata": {
        "id": "view-in-github",
        "colab_type": "text"
      },
      "source": [
        "<a href=\"https://colab.research.google.com/github/Joshan2005/Petroleum-Data-Analytics/blob/main/Lecture4.ipynb\" target=\"_parent\"><img src=\"https://colab.research.google.com/assets/colab-badge.svg\" alt=\"Open In Colab\"/></a>"
      ]
    },
    {
      "cell_type": "code",
      "execution_count": null,
      "metadata": {
        "colab": {
          "base_uri": "https://localhost:8080/"
        },
        "id": "rEwr55HsA4yA",
        "outputId": "4b5c4bc5-b1ce-4854-b116-2af8b534b8c7"
      },
      "outputs": [
        {
          "output_type": "stream",
          "name": "stdout",
          "text": [
            "hello world\n"
          ]
        }
      ],
      "source": [
        "# This is the first program\n",
        "print('hello world')"
      ]
    },
    {
      "cell_type": "code",
      "source": [
        "a=\"hello world\"\n",
        "print(a)"
      ],
      "metadata": {
        "colab": {
          "base_uri": "https://localhost:8080/"
        },
        "id": "U0ETGnxdEuhY",
        "outputId": "0b4460de-0188-4ac6-9083-921f52eb1831"
      },
      "execution_count": null,
      "outputs": [
        {
          "output_type": "stream",
          "name": "stdout",
          "text": [
            "hello world\n"
          ]
        }
      ]
    },
    {
      "cell_type": "code",
      "source": [
        "# take input from the user\n",
        "name = input(\"Enter your name\")\n",
        "print(\"Hello\",name,\"! Welcome\")"
      ],
      "metadata": {
        "colab": {
          "base_uri": "https://localhost:8080/"
        },
        "id": "cG4FwxlLE5wo",
        "outputId": "9f040c6c-3290-476c-b9d9-13c3a2133a94"
      },
      "execution_count": null,
      "outputs": [
        {
          "output_type": "stream",
          "name": "stdout",
          "text": [
            "Enter your nameJoshan\n",
            "Hello Joshan ! Welcome\n"
          ]
        }
      ]
    },
    {
      "cell_type": "code",
      "source": [
        "# print single variable\n",
        "a=\"petroleum\"\n",
        "print(a)"
      ],
      "metadata": {
        "colab": {
          "base_uri": "https://localhost:8080/"
        },
        "id": "ZPrJqtnaF5Tx",
        "outputId": "026c5ae5-aa30-4342-c2a3-83f5b3ce25c9"
      },
      "execution_count": null,
      "outputs": [
        {
          "output_type": "stream",
          "name": "stdout",
          "text": [
            "petroleum\n"
          ]
        }
      ]
    },
    {
      "cell_type": "code",
      "source": [
        "# print multiple variable\n",
        "b=\"testing\"\n",
        "c=\"logging\"\n",
        "print(a,b,c)"
      ],
      "metadata": {
        "colab": {
          "base_uri": "https://localhost:8080/"
        },
        "id": "DCpGjZJZGENY",
        "outputId": "37902f89-11b5-4581-cae4-4ec7abd05407"
      },
      "execution_count": null,
      "outputs": [
        {
          "output_type": "stream",
          "name": "stdout",
          "text": [
            "petroleum testing logging\n"
          ]
        }
      ]
    },
    {
      "cell_type": "code",
      "source": [
        "color = input(\"What color is rose?: \")\n",
        "print(color)"
      ],
      "metadata": {
        "colab": {
          "base_uri": "https://localhost:8080/"
        },
        "id": "-PlblGvPHc8x",
        "outputId": "d330caea-123e-4dba-a31a-e72b2f895a73"
      },
      "execution_count": null,
      "outputs": [
        {
          "output_type": "stream",
          "name": "stdout",
          "text": [
            "What color is rose?: Pink\n",
            "Pink\n"
          ]
        }
      ]
    },
    {
      "cell_type": "code",
      "source": [
        "# Taking input as int\n",
        "# Typecasting to int\n",
        "n = input(\"How many roses?: \")\n",
        "print(n)"
      ],
      "metadata": {
        "colab": {
          "base_uri": "https://localhost:8080/"
        },
        "id": "muCP4JDFH5_x",
        "outputId": "0ebf99ff-0389-4de5-ba36-75e278db7656"
      },
      "execution_count": null,
      "outputs": [
        {
          "output_type": "stream",
          "name": "stdout",
          "text": [
            "How many roses?: 1\n",
            "1\n"
          ]
        }
      ]
    },
    {
      "cell_type": "code",
      "source": [
        "# finding a datatype of input in python\n",
        "a = \"Hello world\"\n",
        "b = 10\n",
        "c = 11.12\n",
        "d = (\"Petroleum\",\"Data\",\"AI/ML\")\n",
        "e = [\"Petroleum\",\"Data\",\"AI/ML\"]\n",
        "f = {\"Porosity\": 30, \"Permeability\": 200, \"Water_Saturation\": 3}\n",
        "print(type(a))\n",
        "print(type(b))\n",
        "print(type(c))\n",
        "print(type(d))\n",
        "print(type(e))\n",
        "print(type(f))"
      ],
      "metadata": {
        "colab": {
          "base_uri": "https://localhost:8080/"
        },
        "id": "hjc8hbikIK5X",
        "outputId": "bd5f2b2c-a428-4525-e848-9095e9f812ad"
      },
      "execution_count": null,
      "outputs": [
        {
          "output_type": "stream",
          "name": "stdout",
          "text": [
            "<class 'str'>\n",
            "<class 'int'>\n",
            "<class 'float'>\n",
            "<class 'tuple'>\n",
            "<class 'list'>\n",
            "<class 'dict'>\n"
          ]
        }
      ]
    },
    {
      "cell_type": "code",
      "source": [
        "# Output Formatting\n",
        "amount = 150.75133234\n",
        "print(\"Amount: ${:.1f}\".format(amount))"
      ],
      "metadata": {
        "colab": {
          "base_uri": "https://localhost:8080/"
        },
        "id": "xjQBiqhSJHS5",
        "outputId": "89dd4fe7-29c7-49b6-f78b-b158af1a3fb7"
      },
      "execution_count": null,
      "outputs": [
        {
          "output_type": "stream",
          "name": "stdout",
          "text": [
            "Amount: $150.8\n"
          ]
        }
      ]
    },
    {
      "cell_type": "code",
      "source": [
        "# end parameter with @\n",
        "print(\"python\", end='@')\n",
        "print(\"Engineering\")"
      ],
      "metadata": {
        "colab": {
          "base_uri": "https://localhost:8080/"
        },
        "id": "EeDYzsPSJ4zg",
        "outputId": "99e1f567-4c27-4210-e1d5-a942d21810d8"
      },
      "execution_count": null,
      "outputs": [
        {
          "output_type": "stream",
          "name": "stdout",
          "text": [
            "python@Engineering\n"
          ]
        }
      ]
    },
    {
      "cell_type": "code",
      "source": [
        "# aeparating with comma\n",
        "print('G','F','G',sep=',')"
      ],
      "metadata": {
        "colab": {
          "base_uri": "https://localhost:8080/"
        },
        "id": "tMT9Vy7BKSC3",
        "outputId": "3020f7d7-28aa-42a1-ecdc-9c3f26c14671"
      },
      "execution_count": null,
      "outputs": [
        {
          "output_type": "stream",
          "name": "stdout",
          "text": [
            "G,F,G\n"
          ]
        }
      ]
    },
    {
      "cell_type": "code",
      "source": [
        "# my own code\n",
        "Name = input(\"Name: \")\n",
        "Department = input(\"Department: \")\n",
        "print(f\"Hello, my name is {Name} and I am a student of {Department}\")"
      ],
      "metadata": {
        "colab": {
          "base_uri": "https://localhost:8080/"
        },
        "id": "BVB2qvPmKjhw",
        "outputId": "66b45082-88c6-4d0f-d8e2-c1b4ac20fa58"
      },
      "execution_count": null,
      "outputs": [
        {
          "output_type": "stream",
          "name": "stdout",
          "text": [
            "Name: Joshan\n",
            "Department: Chemical Engineering\n",
            "Hello, my name is Joshan and I am a student of Chemical Engineering\n"
          ]
        }
      ]
    },
    {
      "cell_type": "code",
      "source": [],
      "metadata": {
        "id": "PoMT_HamLyMY"
      },
      "execution_count": null,
      "outputs": []
    }
  ]
}