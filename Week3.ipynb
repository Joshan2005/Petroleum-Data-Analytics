{
  "cells": [
    {
      "cell_type": "code",
      "source": [
        "# checking python version\n",
        "import pandas as pd\n",
        "print(pd.__version__)"
      ],
      "metadata": {
        "colab": {
          "base_uri": "https://localhost:8080/"
        },
        "id": "8wevn-nI3g3C",
        "outputId": "fbf20223-f19c-48cd-831a-9c22ec80cd28"
      },
      "id": "8wevn-nI3g3C",
      "execution_count": 29,
      "outputs": [
        {
          "output_type": "stream",
          "name": "stdout",
          "text": [
            "2.2.2\n"
          ]
        }
      ]
    },
    {
      "cell_type": "code",
      "source": [
        "# creating pandas series\n",
        "import pandas as pd\n",
        "list1=[1,2,3,4,5]\n",
        "ser1=pd.Series(list1)\n",
        "print(ser1)\n",
        "print(type(ser1))"
      ],
      "metadata": {
        "colab": {
          "base_uri": "https://localhost:8080/"
        },
        "id": "y51x39Z68ixN",
        "outputId": "adde7619-f03c-4acc-8bf2-e1d2bd589266"
      },
      "id": "y51x39Z68ixN",
      "execution_count": 30,
      "outputs": [
        {
          "output_type": "stream",
          "name": "stdout",
          "text": [
            "0    1\n",
            "1    2\n",
            "2    3\n",
            "3    4\n",
            "4    5\n",
            "dtype: int64\n",
            "<class 'pandas.core.series.Series'>\n"
          ]
        }
      ]
    },
    {
      "cell_type": "code",
      "source": [
        "# position based indexing\n",
        "print(ser1[0:3])"
      ],
      "metadata": {
        "colab": {
          "base_uri": "https://localhost:8080/"
        },
        "id": "xCFyX3hFn80v",
        "outputId": "81257b19-d335-4108-9325-e88a8f954c84"
      },
      "id": "xCFyX3hFn80v",
      "execution_count": 31,
      "outputs": [
        {
          "output_type": "stream",
          "name": "stdout",
          "text": [
            "0    1\n",
            "1    2\n",
            "2    3\n",
            "dtype: int64\n"
          ]
        }
      ]
    },
    {
      "cell_type": "code",
      "source": [
        "# label based indexing\n",
        "ser2=pd.Series([1,2,3,4,5],index=['One','Two','Three','Four','Five'])\n",
        "print(ser2)"
      ],
      "metadata": {
        "colab": {
          "base_uri": "https://localhost:8080/"
        },
        "id": "gDyQkQ_WolAD",
        "outputId": "ab84612d-0272-4336-e1bd-02270347d047"
      },
      "id": "gDyQkQ_WolAD",
      "execution_count": 32,
      "outputs": [
        {
          "output_type": "stream",
          "name": "stdout",
          "text": [
            "One      1\n",
            "Two      2\n",
            "Three    3\n",
            "Four     4\n",
            "Five     5\n",
            "dtype: int64\n"
          ]
        }
      ]
    },
    {
      "cell_type": "code",
      "source": [
        "# extract values and index using corresponding attributes\n",
        "list2=list(ser2.index)\n",
        "print(list2)\n",
        "list3=list(ser2.array)\n",
        "print(list3)"
      ],
      "metadata": {
        "colab": {
          "base_uri": "https://localhost:8080/"
        },
        "id": "pF_4WqZcpQgu",
        "outputId": "aff8223f-2301-4b43-8118-0858295f6d8e"
      },
      "id": "pF_4WqZcpQgu",
      "execution_count": 33,
      "outputs": [
        {
          "output_type": "stream",
          "name": "stdout",
          "text": [
            "['One', 'Two', 'Three', 'Four', 'Five']\n",
            "[np.int64(1), np.int64(2), np.int64(3), np.int64(4), np.int64(5)]\n"
          ]
        }
      ]
    },
    {
      "cell_type": "code",
      "source": [
        "# ordinary mathematics\n",
        "ser2>=2"
      ],
      "metadata": {
        "colab": {
          "base_uri": "https://localhost:8080/",
          "height": 241
        },
        "id": "5p5v9yDyqKjY",
        "outputId": "2decccf7-b8e0-40a1-b283-1cae7719df8e"
      },
      "id": "5p5v9yDyqKjY",
      "execution_count": 34,
      "outputs": [
        {
          "output_type": "execute_result",
          "data": {
            "text/plain": [
              "One      False\n",
              "Two       True\n",
              "Three     True\n",
              "Four      True\n",
              "Five      True\n",
              "dtype: bool"
            ],
            "text/html": [
              "<div>\n",
              "<style scoped>\n",
              "    .dataframe tbody tr th:only-of-type {\n",
              "        vertical-align: middle;\n",
              "    }\n",
              "\n",
              "    .dataframe tbody tr th {\n",
              "        vertical-align: top;\n",
              "    }\n",
              "\n",
              "    .dataframe thead th {\n",
              "        text-align: right;\n",
              "    }\n",
              "</style>\n",
              "<table border=\"1\" class=\"dataframe\">\n",
              "  <thead>\n",
              "    <tr style=\"text-align: right;\">\n",
              "      <th></th>\n",
              "      <th>0</th>\n",
              "    </tr>\n",
              "  </thead>\n",
              "  <tbody>\n",
              "    <tr>\n",
              "      <th>One</th>\n",
              "      <td>False</td>\n",
              "    </tr>\n",
              "    <tr>\n",
              "      <th>Two</th>\n",
              "      <td>True</td>\n",
              "    </tr>\n",
              "    <tr>\n",
              "      <th>Three</th>\n",
              "      <td>True</td>\n",
              "    </tr>\n",
              "    <tr>\n",
              "      <th>Four</th>\n",
              "      <td>True</td>\n",
              "    </tr>\n",
              "    <tr>\n",
              "      <th>Five</th>\n",
              "      <td>True</td>\n",
              "    </tr>\n",
              "  </tbody>\n",
              "</table>\n",
              "</div><br><label><b>dtype:</b> bool</label>"
            ]
          },
          "metadata": {},
          "execution_count": 34
        }
      ]
    },
    {
      "cell_type": "code",
      "source": [
        "# converting numpy array into pandas series\n",
        "import numpy as np\n",
        "import pandas as pd\n",
        "data=np.array(['J','O','S','H','A','N'])\n",
        "ser=pd.Series(data)\n",
        "print(ser)"
      ],
      "metadata": {
        "colab": {
          "base_uri": "https://localhost:8080/"
        },
        "id": "igu7F2WCt0sR",
        "outputId": "92583ee7-25fb-434f-9292-d2cfbf1f7ff6"
      },
      "id": "igu7F2WCt0sR",
      "execution_count": 35,
      "outputs": [
        {
          "output_type": "stream",
          "name": "stdout",
          "text": [
            "0    J\n",
            "1    O\n",
            "2    S\n",
            "3    H\n",
            "4    A\n",
            "5    N\n",
            "dtype: object\n"
          ]
        }
      ]
    },
    {
      "cell_type": "code",
      "source": [
        "# creating a series with an explixit dtype\n",
        "import pandas as pd\n",
        "s1=pd.Series([1,2,3,4,5],dtype='int8')\n",
        "s2=pd.Series(['A','B','C'],dtype='string')\n",
        "print(s1)\n",
        "print(s2)"
      ],
      "metadata": {
        "colab": {
          "base_uri": "https://localhost:8080/"
        },
        "id": "PI8sHbjCt4l8",
        "outputId": "3c3196b2-6722-4354-933b-4ff2a8976654"
      },
      "id": "PI8sHbjCt4l8",
      "execution_count": 36,
      "outputs": [
        {
          "output_type": "stream",
          "name": "stdout",
          "text": [
            "0    1\n",
            "1    2\n",
            "2    3\n",
            "3    4\n",
            "4    5\n",
            "dtype: int8\n",
            "0    A\n",
            "1    B\n",
            "2    C\n",
            "dtype: string\n"
          ]
        }
      ]
    }
  ],
  "metadata": {
    "kernelspec": {
      "display_name": "Python 3",
      "name": "python3"
    },
    "language_info": {
      "name": "python"
    },
    "required_libs": [],
    "colab": {
      "provenance": []
    }
  },
  "nbformat": 4,
  "nbformat_minor": 5
}